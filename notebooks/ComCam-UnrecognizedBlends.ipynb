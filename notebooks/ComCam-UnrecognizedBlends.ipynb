{
 "cells": [
  {
   "cell_type": "code",
   "execution_count": null,
   "id": "1c13a586-7a0f-4529-9aa9-6e45267ff07b",
   "metadata": {},
   "outputs": [],
   "source": [
    "!eups list -s | grep lsst_distrib"
   ]
  },
  {
   "cell_type": "code",
   "execution_count": null,
   "id": "02df4b4f-d105-4606-83ec-073cdadaadb8",
   "metadata": {},
   "outputs": [],
   "source": [
    "import numpy as np\n",
    "import astropy.units as u\n",
    "import matplotlib.pyplot as plt\n",
    "import matplotlib.patches as patches\n",
    "from scipy.spatial import KDTree\n",
    "import scipy.interpolate as interpolate\n",
    "from scipy.optimize import curve_fit\n",
    "import scipy.stats as stats\n",
    "import healpy as hp\n",
    "import pandas as pd\n",
    "from matplotlib import cm\n",
    "from astropy.visualization import make_lupton_rgb\n",
    "from astropy.io import fits\n",
    "# %matplotlib widget"
   ]
  },
  {
   "cell_type": "code",
   "execution_count": null,
   "id": "9f49ae54-2077-4d3d-b284-8a76b8850fea",
   "metadata": {},
   "outputs": [],
   "source": [
    "# Familiar stack packages\n",
    "from lsst.daf.butler import Butler\n",
    "from lsst.geom import Box2I, Box2D, Point2I, Point2D, Extent2I, Extent2D\n",
    "from lsst.afw.image import Exposure, Image, PARENT\n",
    "import lsst.sphgeom\n",
    "\n",
    "# These may be less familiar objects dealing with multi-band data products\n",
    "from lsst.afw.image import MultibandExposure, MultibandImage\n",
    "from lsst.afw.detection import MultibandFootprint\n",
    "from lsst.afw.image import MultibandExposure"
   ]
  },
  {
   "cell_type": "code",
   "execution_count": null,
   "id": "d3bc59f0-100f-488d-959d-379a3f38c27f",
   "metadata": {},
   "outputs": [],
   "source": [
    "from lsst.meas.algorithms import SourceDetectionTask\n",
    "from lsst.meas.algorithms import DynamicDetectionTask\n",
    "from lsst.meas.extensions.scarlet import ScarletDeblendTask\n",
    "from lsst.meas.base import SingleFrameMeasurementTask\n",
    "from lsst.afw.table import SourceCatalog\n",
    "\n",
    "import lsst.scarlet.lite as scl\n",
    "# import scarlet"
   ]
  },
  {
   "cell_type": "code",
   "execution_count": null,
   "id": "5d367c6e-e6a5-49fe-95a5-22b82af9621e",
   "metadata": {},
   "outputs": [],
   "source": [
    "from lsst.daf.butler import Butler"
   ]
  },
  {
   "cell_type": "code",
   "execution_count": null,
   "id": "3df7c1b2-b1fe-48fc-86b1-4682c8c73fe1",
   "metadata": {},
   "outputs": [],
   "source": [
    "def showRGB(image, bgr=\"gri\", ax=None, fp=None, figsize=(8,8), stretch=1, Q=10):\n",
    "    \"\"\"Display an RGB color composite image with matplotlib.\n",
    "    \n",
    "    Parameters\n",
    "    ----------\n",
    "    image : `MultibandImage`\n",
    "        `MultibandImage` to display.\n",
    "    bgr : sequence\n",
    "        A 3-element sequence of filter names (i.e. keys of the exps dict) indicating what band\n",
    "        to use for each channel. If `image` only has three filters then this parameter is ignored\n",
    "        and the filters in the image are used.\n",
    "    ax : `matplotlib.axes.Axes`\n",
    "        Axis in a `matplotlib.Figure` to display the image.\n",
    "        If `axis` is `None` then a new figure is created.\n",
    "    fp: `lsst.afw.detection.Footprint`\n",
    "        Footprint that contains the peak catalog for peaks in the image.\n",
    "        If `fp` is `None` then no peak positions are plotted.\n",
    "    figsize: tuple\n",
    "        Size of the `matplotlib.Figure` created.\n",
    "        If `ax` is not `None` then this parameter is ignored.\n",
    "    stretch: int\n",
    "        The linear stretch of the image.\n",
    "    Q: int\n",
    "        The Asinh softening parameter.\n",
    "    \"\"\"\n",
    "    # If the image only has 3 bands, reverse the order of the bands to produce the RGB image\n",
    "    if len(image) == 3:\n",
    "        bgr = image.filters\n",
    "    # Extract the primary image component of each Exposure with the .image property, and use .array to get a NumPy array view.\n",
    "    rgb = make_lupton_rgb(image_r=image[bgr[2]].array,  # numpy array for the r channel\n",
    "                          image_g=image[bgr[1]].array,  # numpy array for the g channel\n",
    "                          image_b=image[bgr[0]].array,  # numpy array for the b channel\n",
    "                          stretch=stretch, Q=Q)  # parameters used to stretch and scale the pixel values\n",
    "    if ax is None:\n",
    "        fig = plt.figure(figsize=figsize)\n",
    "        ax = fig.add_subplot(1,1,1)\n",
    "    \n",
    "    # Exposure.getBBox() returns a Box2I, a box with integer pixel coordinates that correspond to the centers of pixels.\n",
    "    # Matplotlib's `extent` argument expects to receive the coordinates of the edges of pixels, which is what\n",
    "    # this Box2D (a box with floating-point coordinates) represents.\n",
    "    integerPixelBBox = image[bgr[0]].getBBox()\n",
    "    bbox = Box2D(integerPixelBBox)\n",
    "    ax.imshow(rgb, interpolation='nearest', origin='lower', extent=(bbox.getMinX(), bbox.getMaxX(), bbox.getMinY(), bbox.getMaxY()))\n",
    "    if fp is not None:\n",
    "        for peak in fp.getPeaks():\n",
    "            ax.plot(peak.getIx(), peak.getIy(), \"bx\", mew=2)"
   ]
  },
  {
   "cell_type": "code",
   "execution_count": null,
   "id": "0a96074a-3356-47e7-9672-b35a18d0fd22",
   "metadata": {},
   "outputs": [],
   "source": [
    "arcsec = 1/60**2"
   ]
  },
  {
   "cell_type": "code",
   "execution_count": null,
   "id": "a9211a74-07dc-418a-a095-1fa96b9f35e8",
   "metadata": {},
   "outputs": [],
   "source": [
    "def match_unrec_blends(obs_coords, space_mags, obs_tree, space_tree,\n",
    "                       min_mag=28.5, max_diff=2, obj_radius=1*arcsec, space_radius=1*arcsec):\n",
    "    '''\n",
    "    Matching function to label unrecognized blends. \n",
    "    '''\n",
    "    obj_blend_row = np.zeros(len(obs_coords))\n",
    "    magdiff_unrec_blends = []\n",
    "    for ondx,oc in enumerate(obs_coords):\n",
    "        truths = space_tree.query_ball_point(oc, r=space_radius)\n",
    "        objs = obs_tree.query_ball_point(oc, r=obj_radius)\n",
    "    \n",
    "        Nt = len(truths) \n",
    "        No = len(objs)\n",
    "\n",
    "        if (Nt - No) > 0:\n",
    "            match_mags = np.zeros(len(truths))\n",
    "            for i,t_ndx in enumerate(truths):\n",
    "                match_mags[i] = space_mags[t_ndx]\n",
    "\n",
    "            diff_mags = match_mags - match_mags.min()\n",
    "            diff_filter = (diff_mags<=max_diff) * (match_mags < min_mag)\n",
    "            filtered_mags = np.array(match_mags)[diff_filter]\n",
    "            \n",
    "            if (len(filtered_mags) - len(objs))>=1:\n",
    "                filt_ndx = np.array(truths)[diff_filter]\n",
    "                magdiff_unrec_blends.append([filtered_mags,filt_ndx, ondx])\n",
    "                for o_ndx in objs:\n",
    "                    obj_blend_row[o_ndx] = 1\n",
    "    return obj_blend_row.astype(bool), magdiff_unrec_blends\n",
    "                "
   ]
  },
  {
   "cell_type": "code",
   "execution_count": null,
   "id": "1a5b78cb-9764-4dd7-a4ab-37b963c91606",
   "metadata": {},
   "outputs": [],
   "source": [
    "def fblend_generic_1d(gen_row, blend_row, add_filt=None, b_bins=None, Nbin=50):\n",
    "    '''\n",
    "    Helper function to calculate fraction of unrecognized blend as a function of `gen_row` binning.\n",
    "\n",
    "    `gen_row` : Generic row. Any array of the same length as `blend_row` that has a variable we want to bin on\n",
    "    `blend_row` : Blend label row. Array of booleans labelling an object as pure (0) or blended (1)\n",
    "    `add_filt` : Additional filter. Any additional filter that should be applied along with binning. Default is no additional filter\n",
    "    `b_bins` :  Blend bins. User supplied binning of `gen_row.` If no bins are provided, automatically create from minimum to maximum of `gen_row` with `Nbin` bins\n",
    "    `Nbin` : Number of bins. When using automatic binning, the number of bins to use. \n",
    "    '''\n",
    "    # gen_row is any measurement with the same size of blend_row\n",
    "\n",
    "    if b_bins is None:\n",
    "        b_bins = np.linspace(gen_row.min(), gen_row.max(), Nbin)\n",
    "    else:\n",
    "        Nbin = len(b_bins)\n",
    "    \n",
    "    f_blend_mag = np.zeros(Nbin)\n",
    "    f_blend_err = np.zeros_like(f_blend_mag)\n",
    "    f_bins = np.zeros_like(f_blend_mag)\n",
    "    \n",
    "    # b_bins = np.linspace(14.5, 30, 50)\n",
    "    f_bins = b_bins\n",
    "    b_digitize = np.digitize(gen_row, b_bins)\n",
    "\n",
    "    num_bin = len(b_bins)\n",
    "    \n",
    "    for ndx in range(1, num_bin+1):\n",
    "        if add_filt is None:\n",
    "            filt = (b_digitize==ndx)\n",
    "        else:\n",
    "            filt = (b_digitize==ndx) * add_filt\n",
    "        if (np.sum(filt)==0):\n",
    "            continue\n",
    "        # num_blends = np.sum(obj_tract[filt]['unrec_blend_score'] > unrec_cutoff)\n",
    "        num_blends = np.sum(blend_row[filt])\n",
    "        num_objs = np.sum(filt)\n",
    "\n",
    "        f_blend_mag[ndx-1] = num_blends/num_objs\n",
    "        # Treating num_blends and num_objs as independent poisson\n",
    "        f_blend_err[ndx-1] = (num_blends + num_blends ** 2 * num_objs / num_objs ** 2) ** (1 / 2) / num_objs\n",
    "    \n",
    "    return {'fraction': f_blend_mag, 'err': f_blend_err, 'bins': f_bins}"
   ]
  },
  {
   "cell_type": "code",
   "execution_count": null,
   "id": "c01a71b4-c7e6-4ccb-ac41-e6acb67487f8",
   "metadata": {},
   "outputs": [],
   "source": [
    "%matplotlib inline\n",
    "%config InlineBackend.figure_format='retina'"
   ]
  },
  {
   "cell_type": "code",
   "execution_count": null,
   "id": "0caf13a7-352f-4965-93e3-3f3e632c54e2",
   "metadata": {},
   "outputs": [],
   "source": [
    "arcsec = 1/60**2\n",
    "obs_repo = '/repo/embargo'"
   ]
  },
  {
   "cell_type": "code",
   "execution_count": null,
   "id": "0789937a-aedd-4df1-b411-b5083c4395c0",
   "metadata": {},
   "outputs": [],
   "source": [
    "# Relevant bands\n",
    "# bands = list('ugrizy')\n",
    "bands = list('gri')\n",
    "blen = len(bands)\n",
    "\n",
    "# Column names for the bands\n",
    "\n",
    "ap_suffix = '_ap12Flux'\n",
    "kron_suffix = '_kronFlux'\n",
    "\n",
    "aper_bands = [b+ap_suffix for b in bands]\n",
    "kron_bands = [b+kron_suffix for b in bands]"
   ]
  },
  {
   "cell_type": "markdown",
   "id": "bb85c5f5-acf1-4378-8180-7306cbb94f80",
   "metadata": {},
   "source": [
    "### HST Data"
   ]
  },
  {
   "cell_type": "code",
   "execution_count": null,
   "id": "8232b118-fece-473a-87ac-d5d53fe06986",
   "metadata": {},
   "outputs": [],
   "source": [
    "catalog_dir = '/sdf/data/rubin/user/dtaranu/tickets/cdfs/'\n",
    "catalog_fname = f\"{catalog_dir}/hlsp_hlf_hst_60mas_goodss_v2.1_catalog.fits\""
   ]
  },
  {
   "cell_type": "code",
   "execution_count": null,
   "id": "6904454e-d0ba-4009-9b69-3b970ecb7363",
   "metadata": {},
   "outputs": [],
   "source": [
    "hst_fits = fits.open(catalog_fname)"
   ]
  },
  {
   "cell_type": "code",
   "execution_count": null,
   "id": "56663dbf-5d83-483f-a6cf-64931129b10b",
   "metadata": {},
   "outputs": [],
   "source": [
    "hst_ra = hst_fits[1].data['ra']\n",
    "hst_dec = hst_fits[1].data['dec']\n",
    "\n",
    "hst_data = np.vstack((hst_ra, hst_dec)).T\n",
    "hst_tree = KDTree(hst_data)"
   ]
  },
  {
   "cell_type": "code",
   "execution_count": null,
   "id": "390d3706-af85-4566-9fcc-d42c825b48f6",
   "metadata": {},
   "outputs": [],
   "source": [
    "hst_f814_all = hst_fits[1].data['f_f814w']"
   ]
  },
  {
   "cell_type": "code",
   "execution_count": null,
   "id": "24a470c7-e957-41be-a588-bf5d05c41a2a",
   "metadata": {},
   "outputs": [],
   "source": [
    "# Need to double check the right way to get the magnitudes.\n",
    "# Using AB zeropoint from: https://acstools.readthedocs.io/en/latest/acszpt.html\n",
    "\n",
    "hst_f814_mags = -2.5*np.log10(hst_f814_all, where=hst_f814_all>-99, out=-99*np.ones(len(hst_f814_all))) + 25.937# + 25.69 + 25.937"
   ]
  },
  {
   "cell_type": "code",
   "execution_count": null,
   "id": "cb3b46c5-937d-4134-a662-46f52a2c2e7f",
   "metadata": {},
   "outputs": [],
   "source": [
    "print(\"HST Data bounds: \", hst_data[:,0].min(), hst_data[:,0].max(), hst_data[:,1].min(), hst_data[:,1].max())"
   ]
  },
  {
   "cell_type": "markdown",
   "id": "4d435e6c-60f2-43b0-8162-4bfb190131e0",
   "metadata": {},
   "source": [
    "### Load ECDFS Data"
   ]
  },
  {
   "cell_type": "code",
   "execution_count": null,
   "id": "cf69ea40-6985-44de-bb22-8ec81f2e0d85",
   "metadata": {},
   "outputs": [],
   "source": [
    "obs_butler = Butler(obs_repo, collections='LSSTComCam/runs/DRP/20241101_20241211/w_2024_51/DM-48233')"
   ]
  },
  {
   "cell_type": "code",
   "execution_count": null,
   "id": "0e29e38f-f916-480b-ba61-2f4bf32fc6e8",
   "metadata": {},
   "outputs": [],
   "source": [
    "# ECDFS Location\n",
    "\n",
    "# ra = 53.1250000\n",
    "# dec = -27.8055556\n",
    "# spherePoint = lsst.geom.SpherePoint(ra*lsst.geom.degrees,\n",
    "#                                      dec*lsst.geom.degrees)\n",
    "# t_skymap = test_butler.get('skyMap', skymap='lsst_cells_v1')\n",
    "\n",
    "# tract = t_skymap.findTract(spherePoint)\n",
    "# patch = tract.findPatch(spherePoint)\n",
    "# tract_id = tract.tract_id\n",
    "# patch_id = patch.getSequentialIndex()\n",
    "# print(tract_id, patch_id)"
   ]
  },
  {
   "cell_type": "code",
   "execution_count": null,
   "id": "07590c35-22db-431e-8c71-4b0a1a8e7a01",
   "metadata": {},
   "outputs": [],
   "source": [
    "# Need to get all the tracts + patches that span the HST dataset to maximize the counts\n",
    "\n",
    "t_skymap = obs_butler.get('skyMap', skymap='lsst_cells_v1')\n",
    "hst_data_locs = []\n",
    "\n",
    "for ra, dec in zip(hst_data[:,0], hst_data[:,1]):\n",
    "    spherePoint = lsst.geom.SpherePoint(ra*lsst.geom.degrees,\n",
    "                                     dec*lsst.geom.degrees)\n",
    "    tract = t_skymap.findTract(spherePoint)\n",
    "    patch = tract.findPatch(spherePoint)\n",
    "    tract_id = tract.tract_id\n",
    "    patch_id = patch.getSequentialIndex()\n",
    "    hst_data_locs.append((tract_id, patch_id))\n",
    "print(tract_id, patch_id)"
   ]
  },
  {
   "cell_type": "code",
   "execution_count": null,
   "id": "3ef61891-8318-4e9d-a86b-8bd481e13cff",
   "metadata": {},
   "outputs": [],
   "source": [
    "# All tracts + patches that we can match against\n",
    "hst_data_locs = list(set(hst_data_locs))"
   ]
  },
  {
   "cell_type": "code",
   "execution_count": null,
   "id": "773b5961-2969-4548-9b6e-f2d6cf3b1212",
   "metadata": {},
   "outputs": [],
   "source": [
    "pipeline_cat = []\n",
    "\n",
    "for tract, patch in hst_data_locs:\n",
    "    pipeline_cat.append(obs_butler.get('objectTable', skymap='lsst_cells_v1', patch=patch, tract=tract,\n",
    "                           parameters={\"columns\":['coord_ra', 'coord_dec', 'refExtendedness',\n",
    "                                                  'detect_isPrimary', 'detect_fromBlend', 'parentObjectId',\n",
    "                                                  'shape_xx', 'shape_xy', 'shape_yy', 'refBand', 'x', 'y'] + aper_bands + kron_bands}))"
   ]
  },
  {
   "cell_type": "code",
   "execution_count": null,
   "id": "d0605605-5e23-45e7-8741-cea974703ea8",
   "metadata": {},
   "outputs": [],
   "source": [
    "full_cat = pd.concat(pipeline_cat)"
   ]
  },
  {
   "cell_type": "code",
   "execution_count": null,
   "id": "fd797254-fd1e-4cd8-9cc1-603428d55cf3",
   "metadata": {},
   "outputs": [],
   "source": [
    "primary_cat = full_cat[full_cat['detect_isPrimary']==True]"
   ]
  },
  {
   "cell_type": "code",
   "execution_count": null,
   "id": "8f5403e6-b965-4a2c-a597-470836747c4d",
   "metadata": {},
   "outputs": [],
   "source": [
    "primary_cat = primary_cat.assign(i_aper_mag=u.nJy.to(u.ABmag, primary_cat['i_ap12Flux']))\n",
    "primary_cat = primary_cat.assign(i_kron_mag=u.nJy.to(u.ABmag, primary_cat['i_kronFlux']))"
   ]
  },
  {
   "cell_type": "code",
   "execution_count": null,
   "id": "4263d785-ded4-47dd-a5d0-468fb48bca0a",
   "metadata": {},
   "outputs": [],
   "source": [
    "# The primary catalog will include points in the patches not in the actual ECDFS field\n",
    "# Querying for points within 3'' of the HST tree to restrict to the actual ECDFS field\n",
    "\n",
    "primary_all_coords = np.vstack((primary_cat['coord_ra'], primary_cat['coord_dec'])).T\n",
    "nearest_dists, _ = hst_tree.query(primary_all_coords)\n",
    "\n",
    "ecdfs_filt = nearest_dists < 3*arcsec\n",
    "ecdfs_cat = primary_cat[ecdfs_filt]\n",
    "ecdfs_coords = primary_all_coords[ecdfs_filt]"
   ]
  },
  {
   "cell_type": "code",
   "execution_count": null,
   "id": "55dd899e-0121-4597-a34a-56d8425eabf9",
   "metadata": {},
   "outputs": [],
   "source": [
    "# plt.plot(hst_ra[::10], hst_dec[::10], '.', label=\"HST\")\n",
    "# plt.plot(ecdfs_cat['coord_ra'][::10], ecdfs_cat['coord_dec'][::10], '.', label=\"Com Cam\")\n",
    "# plt.legend()"
   ]
  },
  {
   "cell_type": "code",
   "execution_count": null,
   "id": "7a8ea17a-a781-4e81-b550-5c6ebf73d15b",
   "metadata": {},
   "outputs": [],
   "source": [
    "plt.hist(ecdfs_cat['i_kron_mag'], range=(20, 27), bins=51);\n",
    "plt.axvline(24.5, ls='--', color='k')\n",
    "plt.semilogy()\n",
    "plt.title(\"ECDFS DRP i-mag Distribution\")\n",
    "plt.xlabel(\"i-mag\")\n",
    "plt.ylabel(\"Counts\");"
   ]
  },
  {
   "cell_type": "markdown",
   "id": "72ca21b1-6134-40f9-8ed7-10311d4e9b01",
   "metadata": {},
   "source": [
    "Power-law behavior stops at 24.5 which puts the magnitude limit of our sample"
   ]
  },
  {
   "cell_type": "code",
   "execution_count": null,
   "id": "6b8dd2f9-7e9d-4f90-a790-16fdfe6103e5",
   "metadata": {},
   "outputs": [],
   "source": [
    "ecdfs_mag_filt = ecdfs_cat['i_kron_mag'] < 24.5\n",
    "ecdfs_maglimited = ecdfs_cat[ecdfs_mag_filt]\n",
    "primary_data = ecdfs_coords[ecdfs_mag_filt]\n",
    "primary_tree = KDTree(primary_data)"
   ]
  },
  {
   "cell_type": "code",
   "execution_count": null,
   "id": "f67b4f5d-b3b1-4572-8cc3-3cbf63f89f75",
   "metadata": {},
   "outputs": [],
   "source": [
    "ecdfs_blend, primary_match_array = match_unrec_blends(primary_data, hst_f814_mags, primary_tree, hst_tree, min_mag=33, max_diff=2)"
   ]
  },
  {
   "cell_type": "code",
   "execution_count": null,
   "id": "687eab72-afe1-45bc-84a6-ee491316c74f",
   "metadata": {},
   "outputs": [],
   "source": [
    "i_kron_mag = ecdfs_cat['i_kron_mag'].values"
   ]
  },
  {
   "cell_type": "code",
   "execution_count": null,
   "id": "4ac46d12-7cb6-477b-95e0-f8f78a7830a7",
   "metadata": {},
   "outputs": [],
   "source": [
    "# # What are the brightest pixels between the two sets? They should up match\n",
    "# hst_brightest = np.argsort(hst_f814_mags)[:500]\n",
    "# comcam_brightest = np.argsort(i_kron_mag)[:500]\n",
    "\n",
    "# plt.plot(ecdfs_cat.iloc[comcam_brightest]['coord_ra'], ecdfs_cat.iloc[comcam_brightest]['coord_dec'], '.')\n",
    "# plt.plot(hst_ra[hst_brightest], hst_dec[hst_brightest], '.', alpha=.5)"
   ]
  },
  {
   "cell_type": "code",
   "execution_count": null,
   "id": "aaa013fe-2f7f-4abc-b77b-5f841ad18ca3",
   "metadata": {},
   "outputs": [],
   "source": [
    "ecdfs_blend, primary_match_array = match_unrec_blends(primary_data, hst_f814_mags, primary_tree, hst_tree, min_mag=30, max_diff=2)"
   ]
  },
  {
   "cell_type": "code",
   "execution_count": null,
   "id": "ed04f1a0-7aba-4422-a7c1-88e637f1f123",
   "metadata": {},
   "outputs": [],
   "source": [
    "print(f\"We have a total of {len(ecdfs_blend)} objects, {ecdfs_blend.sum()/len(ecdfs_blend) * 100:0.1f}% of which are unrecognized blends using the science pipeline\")"
   ]
  },
  {
   "cell_type": "code",
   "execution_count": null,
   "id": "ed3fc7d2-dbbb-44a3-86cd-86088e06b066",
   "metadata": {},
   "outputs": [],
   "source": [
    "imag_bins = np.arange(18, 25, .15)"
   ]
  },
  {
   "cell_type": "code",
   "execution_count": null,
   "id": "53b8d638-1fcb-4cf2-b6f8-ab3c8fb19e6f",
   "metadata": {},
   "outputs": [],
   "source": [
    "fblend_dict = fblend_generic_1d(ecdfs_maglimited['i_kron_mag'], ecdfs_blend, b_bins=imag_bins)"
   ]
  },
  {
   "cell_type": "code",
   "execution_count": null,
   "id": "3d9dcd1b-fbfc-4adc-849c-2229a774a13e",
   "metadata": {},
   "outputs": [],
   "source": [
    "# Plot with errorbars\n",
    "fig,ax = plt.subplots(1, figsize=(6,6))\n",
    "\n",
    "ytop = .45 # Set this after looking at the plot to make it prettier\n",
    "ax.errorbar(fblend_dict['bins'],fblend_dict['fraction'], yerr=fblend_dict['err'], marker='.', ls='-')\n",
    "\n",
    "# ax.legend(frameon=False, bbox_to_anchor=(1.2, .6))\n",
    "# ax.set_ylim(top=1.0, bottom=.7)\n",
    "ax.set_ylabel(\"Fraction of unrec. blends\", fontsize=14)\n",
    "ax.set_xlabel(\"Object i-mag\", fontsize=14);\n",
    "ax.set_xlim(18.5, 24.5)\n",
    "ax.set_ylim(-.04, ytop)\n",
    "# ax.legend(frameon=False, bbox_to_anchor=(1.4,.5))\n",
    "# ax.legend(loc='upper left', fontsize=14)\n",
    "ax.set_yticks(np.arange(0,ytop,.05))\n",
    "ax.axhline(0, ls='--', color='black')\n",
    "for item in (ax.get_xticklabels() + ax.get_yticklabels()):\n",
    "    item.set_fontsize(14)\n",
    "ax.grid(visible=True)\n",
    "ax.set_title(\"ECDFS Unrecognized Blends\")\n",
    "# ax.set_title(f\"Matching with {min_mag} Magnitude Cutoff and {mag_cutoff} Difference Cutoff\")"
   ]
  },
  {
   "cell_type": "code",
   "execution_count": null,
   "id": "6b4162eb-b9fe-4742-8f39-c52a64e2c9b9",
   "metadata": {},
   "outputs": [],
   "source": [
    "# Are we matching to objects that are dimmer to 28mags in HST?\n",
    "# Only printing the first 5 since there are quite a few....\n",
    "counter = 0\n",
    "\n",
    "for i, pma in enumerate(primary_match_array):\n",
    "    mags = pma[0]\n",
    "    if (mags>28).any():\n",
    "        if counter < 5:\n",
    "            print(i)\n",
    "        counter += 1\n",
    "print(f\"In total we have {counter} blends with a component fainter than 28\")"
   ]
  },
  {
   "cell_type": "code",
   "execution_count": null,
   "id": "9a9fdfea-d2f5-4f38-a97e-ead08090be38",
   "metadata": {},
   "outputs": [],
   "source": [
    "# The 12th blend is the 81st object and matches with 2 very faint objects:\n",
    "primary_match_array[12]"
   ]
  },
  {
   "cell_type": "markdown",
   "id": "614c48e3-34e9-49e5-b40b-a6c21cc24fa9",
   "metadata": {},
   "source": [
    "### Extremely Faint HST Match\n",
    "\n",
    "Let's focus on the 81st object and see what's going on. It might be a spurious DRP detection...."
   ]
  },
  {
   "cell_type": "code",
   "execution_count": null,
   "id": "a6feadab-e71a-4c7e-a812-413b046e9a87",
   "metadata": {},
   "outputs": [],
   "source": [
    "ra_target = ecdfs_maglimited.iloc[81]['coord_ra']\n",
    "dec_target = ecdfs_maglimited.iloc[81]['coord_dec']"
   ]
  },
  {
   "cell_type": "code",
   "execution_count": null,
   "id": "b2f6523a-bcaa-4a40-b6d9-77012207624d",
   "metadata": {},
   "outputs": [],
   "source": [
    "spherePoint = lsst.geom.SpherePoint(ra_target*lsst.geom.degrees,\n",
    "                                    dec_target*lsst.geom.degrees)\n",
    "tract = t_skymap.findTract(spherePoint)\n",
    "patch = tract.findPatch(spherePoint)\n",
    "print(tract.tract_id, patch.getSequentialIndex())"
   ]
  },
  {
   "cell_type": "code",
   "execution_count": null,
   "id": "c92f4f18-f948-4b09-bfb9-b6bb7ef5eff7",
   "metadata": {},
   "outputs": [],
   "source": [
    "bands = 'gri'\n",
    "new_deep_calexps = []\n",
    "for band in bands:\n",
    "    new_deep_calexps.append(obs_butler.get('deepCoadd_calexp', skymap='lsst_cells_v1',\n",
    "                                            band=band, patch=24, tract=5063))#, tract=tract, patch=patch, band=band))\n",
    "\n",
    "new_wcs = new_deep_calexps[2].getWcs()\n",
    "\n",
    "coadds = MultibandExposure.fromExposures(bands, new_deep_calexps)"
   ]
  },
  {
   "cell_type": "code",
   "execution_count": null,
   "id": "dfd173da-7398-46b4-81f0-f19a3602e4bc",
   "metadata": {},
   "outputs": [],
   "source": [
    "x_target, y_target = new_wcs.skyToPixelArray(ra_target, dec_target, degrees=True)"
   ]
  },
  {
   "cell_type": "code",
   "execution_count": null,
   "id": "4481d315-fbb1-47aa-8d17-8985d00241a2",
   "metadata": {},
   "outputs": [],
   "source": [
    "type(coadds)"
   ]
  },
  {
   "cell_type": "code",
   "execution_count": null,
   "id": "169baea3-c863-4ced-9058-42a94425ce86",
   "metadata": {},
   "outputs": [],
   "source": [
    "showRGB(coadds.image, figsize=(6,6))\n",
    "plt.plot(x_target, y_target, 'gx')"
   ]
  },
  {
   "cell_type": "code",
   "execution_count": null,
   "id": "7c22f749-b86f-44c4-a11c-0d1bb1812207",
   "metadata": {},
   "outputs": [],
   "source": [
    "# Set up a smaller frame to zoom-in on our actual problem\n",
    "frame = 250\n",
    "# sampleBBox = Box2I(Point2I(10700-frame, 9500-frame), Extent2I(63+2*frame, 87+2*frame))\n",
    "sampleBBox = Box2I(Point2I(x_target[0]-frame, y_target[0]-frame), Extent2I(2*frame,2*frame))\n",
    "\n",
    "subset = coadds[:, sampleBBox]"
   ]
  },
  {
   "cell_type": "code",
   "execution_count": null,
   "id": "03354468-1398-4dd0-9e3b-eb300524307b",
   "metadata": {},
   "outputs": [],
   "source": [
    "# Showing each band with tiny bounds to increase visibiltiy of low surface brightness objects\n",
    "fig, ax = plt.subplots(ncols=3, figsize=(18,6))\n",
    "\n",
    "\n",
    "for i in range(3):\n",
    "    c = plt.Circle((x_target[0], y_target[0]), radius=12, fill=False)\n",
    "    ax[i].imshow(subset[bands[i]].image.array[::-1,:], norm='asinh', # Image is just flipped on the vertical axis\n",
    "               extent=(sampleBBox.getMinX(), sampleBBox.getMaxX(), sampleBBox.getMinY(), sampleBBox.getMaxY()), vmin=-.1, vmax=.1) \n",
    "    ax[i].add_patch(c)\n",
    "    ax[i].set_title(f\"{bands[i]}\")\n",
    "    # ax[i].plot(x_target, y_target, 'rx', alpha=0.025)"
   ]
  },
  {
   "cell_type": "markdown",
   "id": "ab7c4549-7553-4b82-a90d-42dc99a94d74",
   "metadata": {},
   "source": [
    "There is a tiny blip in the $i$-band which might be an object but not super confident. \n",
    "\n",
    "Run the `SourceDetectionTask` to see what the task finds"
   ]
  },
  {
   "cell_type": "code",
   "execution_count": null,
   "id": "03318300-f739-4214-9eb3-b321c32248ba",
   "metadata": {},
   "outputs": [],
   "source": [
    "schema = SourceCatalog.Table.makeMinimalSchema()"
   ]
  },
  {
   "cell_type": "code",
   "execution_count": null,
   "id": "9bd5e3b2-b342-4a3f-b500-a256a1389533",
   "metadata": {},
   "outputs": [],
   "source": [
    "config = SourceDetectionTask.ConfigClass()\n",
    "# detect sources at 5 sigma \n",
    "config.thresholdValue = 5\n",
    "config.thresholdType = \"stdev\""
   ]
  },
  {
   "cell_type": "code",
   "execution_count": null,
   "id": "1a2e37f4-1f4a-4f35-8f33-a2d49b2d445e",
   "metadata": {},
   "outputs": [],
   "source": [
    "detectionTask = SourceDetectionTask(schema=schema, config=config)"
   ]
  },
  {
   "cell_type": "code",
   "execution_count": null,
   "id": "cd375d23-6d8d-4842-9fd7-7e1ca087f249",
   "metadata": {},
   "outputs": [],
   "source": [
    "table = SourceCatalog.Table.make(schema)\n",
    "detectionResult = detectionTask.run(table, subset['i'])\n",
    "catalog = detectionResult.sources"
   ]
  },
  {
   "cell_type": "code",
   "execution_count": null,
   "id": "4fd1fc0e-ed5c-47ef-bd80-b70e1e25d84d",
   "metadata": {
    "scrolled": true
   },
   "outputs": [],
   "source": [
    "# showRGB(subset.image)\n",
    "plt.imshow(subset['i'].image.array[::-1,:], norm='asinh', # Image is just flipped on the vertical axis\n",
    "           extent=(sampleBBox.getMinX(), sampleBBox.getMaxX(), sampleBBox.getMinY(), sampleBBox.getMaxY()), vmin=-.1, vmax=.1) \n",
    "detectNum = 0 \n",
    "\n",
    "subset_ras = []\n",
    "subset_decs = []\n",
    "\n",
    "for i,ca in enumerate(catalog):\n",
    "    fp = ca.getFootprint()\n",
    "    for peak in fp.getPeaks():\n",
    "        plt.plot(peak.getIx(), peak.getIy(), \"rx\", mew=2, alpha=.15)\n",
    "        ra, dec = new_wcs.pixelToSky(peak.getFx(), peak.getFy())\n",
    "        subset_ras.append(ra.asDegrees())\n",
    "        subset_decs.append(dec.asDegrees())\n",
    "        # plt.annotate(text='x', xy=(fp.peaks['f_x'], fp.peaks['f_y']), color='white')\n",
    "        detectNum += 1\n",
    "\n",
    "assert detectNum == detectionResult.numPosPeaks\n",
    "plt.title(f\"{config.thresholdValue:0.0f}$\\sigma$ Detection Threshold $i$-band\")"
   ]
  },
  {
   "cell_type": "markdown",
   "id": "333382cc-5150-46ef-9318-1f669392931a",
   "metadata": {},
   "source": [
    "`SourceDetectionTask` does a really good job! How does this compare to what the DRP catalog find?"
   ]
  },
  {
   "cell_type": "code",
   "execution_count": null,
   "id": "e0e8c03c-2b0f-4a42-8f0d-f1e1709a6182",
   "metadata": {},
   "outputs": [],
   "source": [
    "subset_ras = np.array(subset_ras)\n",
    "subset_decs = np.array(subset_decs)"
   ]
  },
  {
   "cell_type": "code",
   "execution_count": null,
   "id": "1fc26cc1-27bb-4c1e-8680-e357d4fd2f31",
   "metadata": {},
   "outputs": [],
   "source": [
    "subset_xs, subset_ys = new_wcs.skyToPixelArray(subset_ras, subset_decs, degrees=True)"
   ]
  },
  {
   "cell_type": "code",
   "execution_count": null,
   "id": "aea0b845-bd07-41cf-a64a-a3087a9cf703",
   "metadata": {},
   "outputs": [],
   "source": [
    "all_x, all_y = new_wcs.skyToPixelArray(ecdfs_maglimited['coord_ra'], ecdfs_maglimited['coord_dec'], degrees=True)"
   ]
  },
  {
   "cell_type": "code",
   "execution_count": null,
   "id": "82f9014e-f0f2-43df-b55e-ee8ce2bc694a",
   "metadata": {},
   "outputs": [],
   "source": [
    "drp_bbox_filt = sampleBBox.contains(all_x, all_y)\n",
    "drp_x = all_x[drp_bbox_filt]\n",
    "drp_y = all_y[drp_bbox_filt]"
   ]
  },
  {
   "cell_type": "code",
   "execution_count": null,
   "id": "dbe8eb00-4b48-46b8-8d88-5edbfe6cc722",
   "metadata": {},
   "outputs": [],
   "source": [
    "# showRGB(subset.image)\n",
    "\n",
    "plt.title(f\"{config.thresholdValue:0.0f}$\\sigma$ Detection Threshold $i$-band\")\n",
    "\n",
    "plt.plot(subset_xs, subset_ys, lw=0, marker='o', fillstyle='none', label=\"SourceDetection\", color='red', alpha=.25)\n",
    "plt.plot(drp_x, drp_y, lw=0, marker='o', fillstyle='none', label=\"DRP\", color='black', alpha=1)\n",
    "plt.imshow(subset['i'].image.array[::-1,:], norm='asinh', # Image is just flipped on the vertical axis\n",
    "           extent=(sampleBBox.getMinX(), sampleBBox.getMaxX(), sampleBBox.getMinY(), sampleBBox.getMaxY()), vmin=-.1, vmax=.1) \n",
    "plt.legend(frameon=False, bbox_to_anchor=(1.1, .55))"
   ]
  },
  {
   "cell_type": "markdown",
   "id": "ae0d21ff-2ee0-4a10-9b00-35a96f63b86a",
   "metadata": {},
   "source": [
    "The DRP is mostly missing the very faint objects\n",
    "\n",
    "What are the objects that are fainter the supposed one at the center? The center object has a `kron_mag` $\\approx 24.0$ -- what do the fainter objects look like?"
   ]
  },
  {
   "cell_type": "code",
   "execution_count": null,
   "id": "620c507b-3e8c-4a86-9643-0c2f49eb7206",
   "metadata": {},
   "outputs": [],
   "source": [
    "drp_imags = ecdfs_maglimited['i_kron_mag'][drp_bbox_filt] "
   ]
  },
  {
   "cell_type": "code",
   "execution_count": null,
   "id": "dbeab09f-04d0-48ec-863a-3a44b076338e",
   "metadata": {},
   "outputs": [],
   "source": [
    "circle_filt = (drp_imags < ecdfs_maglimited['i_kron_mag'].iloc[81])"
   ]
  },
  {
   "cell_type": "code",
   "execution_count": null,
   "id": "b174fb1c-5701-45ee-ac75-e806492b6ee0",
   "metadata": {},
   "outputs": [],
   "source": [
    "# showRGB(subset.image)\n",
    "fig, ax = plt.subplots(ncols=3, figsize=(18,6))\n",
    "\n",
    "\n",
    "for i in range(3):\n",
    "    c = plt.Circle((x_target[0], y_target[0]), radius=12, fill=False)\n",
    "    ax[i].imshow(subset[bands[i]].image.array[::-1,:], norm='asinh', # Image is just flipped on the vertical axis\n",
    "               extent=(sampleBBox.getMinX(), sampleBBox.getMaxX(), sampleBBox.getMinY(), sampleBBox.getMaxY()), vmin=-.1, vmax=.1) \n",
    "    ax[i].add_patch(c)\n",
    "    ax[i].set_title(f\"{bands[i]}\")\n",
    "    ax[i].plot(drp_x[circle_filt], drp_y[circle_filt], lw=0, marker='o', alpha=.5, color='r', fillstyle='none', label=\"DRP\")\n",
    "    # ax[i].plot(x_target, y_target, 'rx', alpha=0.025)"
   ]
  },
  {
   "cell_type": "markdown",
   "id": "3fe3e5ad-1fc2-48ea-8962-2b678a289571",
   "metadata": {},
   "source": [
    "Our object should definitely be visible in the images then"
   ]
  },
  {
   "cell_type": "code",
   "execution_count": null,
   "id": "bf196cc4-dc69-451d-964a-f462a86addbc",
   "metadata": {},
   "outputs": [],
   "source": [
    "fig, ax = plt.subplots(1, 3, figsize=(15, 5))\n",
    "\n",
    "\n",
    "for i in range(3):\n",
    "    c = plt.Circle((x_target[0], y_target[0]), radius=12, fill=False, color='g')\n",
    "\n",
    "    masked = subset[bands[i]].getMaskedImage().mask\n",
    "    ax[i].imshow(masked.array[::-1,:] & pow(2,5),\n",
    "                extent=(sampleBBox.getMinX(), sampleBBox.getMaxX(), sampleBBox.getMinY(), sampleBBox.getMaxY()))\n",
    "    ax[i].set_title(f\"Detected pixels in {bands[i]}\")\n",
    "    ax[i].add_patch(c)"
   ]
  },
  {
   "cell_type": "markdown",
   "id": "a8458509-0cb3-4b82-bc89-cd94b3a9b414",
   "metadata": {},
   "source": [
    "#### DynamicDetectionTask"
   ]
  },
  {
   "cell_type": "code",
   "execution_count": null,
   "id": "253e3643-f768-43e6-b2c2-c7109a87c4c9",
   "metadata": {},
   "outputs": [],
   "source": [
    "schema = SourceCatalog.Table.makeMinimalSchema()\n",
    "\n",
    "raerr = schema.addField(\"coord_raErr\", type=\"F\")\n",
    "decerr = schema.addField(\"coord_decErr\", type=\"F\")"
   ]
  },
  {
   "cell_type": "code",
   "execution_count": null,
   "id": "da106637-eb74-4d49-8466-e6d2eb79ef51",
   "metadata": {},
   "outputs": [],
   "source": [
    "config = DynamicDetectionTask.ConfigClass()\n",
    "dynamicTask = DynamicDetectionTask(schema=schema, config=config)"
   ]
  },
  {
   "cell_type": "code",
   "execution_count": null,
   "id": "3641eae6-18ec-4315-aaba-7fe06b61013c",
   "metadata": {},
   "outputs": [],
   "source": [
    "config = SingleFrameMeasurementTask.ConfigClass()\n",
    "sourceMeasurementTask = SingleFrameMeasurementTask(schema=schema, config=config)"
   ]
  },
  {
   "cell_type": "code",
   "execution_count": null,
   "id": "61f5b42d-cb32-4775-8e48-0b116f2b822b",
   "metadata": {},
   "outputs": [],
   "source": [
    "table = SourceCatalog.Table.make(schema)"
   ]
  },
  {
   "cell_type": "code",
   "execution_count": null,
   "id": "cd87ea5d-71da-407f-a2ad-210fd4371bac",
   "metadata": {},
   "outputs": [],
   "source": [
    "i_subset = new_deep_calexps[2].subset(sampleBBox)"
   ]
  },
  {
   "cell_type": "code",
   "execution_count": null,
   "id": "c0c5c630-2e02-4bf1-a6cb-343eb57bfa17",
   "metadata": {},
   "outputs": [],
   "source": [
    "dynamicResult = dynamicTask.run(table, i_subset) # clearMask=True by default so we don't need to remove the mask."
   ]
  },
  {
   "cell_type": "code",
   "execution_count": null,
   "id": "ad78ab86-1a45-42b6-bfaf-be3e2cb09d56",
   "metadata": {},
   "outputs": [],
   "source": [
    "catalog = dynamicResult.sources"
   ]
  },
  {
   "cell_type": "code",
   "execution_count": null,
   "id": "9a53e2df-3ada-4a75-b74b-8532cc0c57ac",
   "metadata": {},
   "outputs": [],
   "source": [
    "sourceResult = sourceMeasurementTask.run(measCat=catalog, exposure=i_subset)"
   ]
  },
  {
   "cell_type": "code",
   "execution_count": null,
   "id": "cee70906-8281-44c9-9f1c-206733c9175b",
   "metadata": {},
   "outputs": [],
   "source": [
    "# catalog = catalog.copy()"
   ]
  },
  {
   "cell_type": "code",
   "execution_count": null,
   "id": "f0535fc4-5382-42bc-be96-2d2ba7f58fa0",
   "metadata": {},
   "outputs": [],
   "source": [
    "print(len(catalog))"
   ]
  },
  {
   "cell_type": "code",
   "execution_count": null,
   "id": "49009b88-a8f7-40fd-87a5-8fb258117605",
   "metadata": {},
   "outputs": [],
   "source": [
    "# showRGB(subset.image)\n",
    "plt.imshow(subset['i'].image.array[::-1,:], norm='asinh', # Image is just flipped on the vertical axis\n",
    "           extent=(sampleBBox.getMinX(), sampleBBox.getMaxX(), sampleBBox.getMinY(), sampleBBox.getMaxY()), vmin=-.1, vmax=.1) \n",
    "detectNum = 0 \n",
    "\n",
    "dynamic_subset_ras = []\n",
    "dynamic_subset_decs = []\n",
    "\n",
    "for i,ca in enumerate(catalog):\n",
    "    fp = ca.getFootprint()\n",
    "    for peak in fp.getPeaks():\n",
    "        plt.plot(peak.getIx(), peak.getIy(), \"rx\", mew=2, alpha=.5)\n",
    "        ra, dec = new_wcs.pixelToSky(peak.getFx(), peak.getFy())\n",
    "        dynamic_subset_ras.append(ra.asDegrees())\n",
    "        dynamic_subset_decs.append(dec.asDegrees())\n",
    "        # plt.annotate(text='x', xy=(fp.peaks['f_x'], fp.peaks['f_y']), color='white')\n",
    "        detectNum += 1\n",
    "print(f\"We detect {detectNum} objects\")"
   ]
  },
  {
   "cell_type": "code",
   "execution_count": null,
   "id": "d869f38d-0bcc-4157-839a-b2dfbec10955",
   "metadata": {},
   "outputs": [],
   "source": [
    "tdists = np.sqrt((catalog['base_SdssCentroid_x'] - x_target[0])**2 + (catalog['base_SdssCentroid_y'] - y_target[0])**2)"
   ]
  },
  {
   "cell_type": "code",
   "execution_count": null,
   "id": "ac9f9438-b151-4ac3-b1c5-f983a1b19905",
   "metadata": {},
   "outputs": [],
   "source": [
    "target_ndx = tdists.argmin()\n",
    "ecdfs_ndx = 81\n",
    "print(target_ndx, tdists[target_ndx])"
   ]
  },
  {
   "cell_type": "code",
   "execution_count": null,
   "id": "3ff2f6c0-b2fa-4975-aa52-230c5f7e4aa9",
   "metadata": {},
   "outputs": [],
   "source": [
    "print(f\"12pix aperture flux of target from DRP: {ecdfs_maglimited.iloc[ecdfs_ndx]['i_ap12Flux']:0.02f} vs SourceMeasurement: {catalog[target_ndx]['base_CircularApertureFlux_12_0_instFlux']:0.02f}\")"
   ]
  },
  {
   "cell_type": "markdown",
   "id": "d4b93348-2401-40c9-ba07-c47d2f8abb2b",
   "metadata": {},
   "source": [
    "Let's see if we are getting the \"correct\" (or at least closer) flux on a brighter object"
   ]
  },
  {
   "cell_type": "code",
   "execution_count": null,
   "id": "e1845ff4-0fe6-4e22-ba7a-c6f75f41d8ea",
   "metadata": {},
   "outputs": [],
   "source": [
    "plt.imshow(subset['i'].image.array[::-1,:], norm='asinh', # Image is just flipped on the vertical axis\n",
    "           extent=(sampleBBox.getMinX(), sampleBBox.getMaxX(), sampleBBox.getMinY(), sampleBBox.getMaxY()), vmin=-.1, vmax=.1) \n",
    "\n",
    "plt.plot(12210, 8013, 'rx')"
   ]
  },
  {
   "cell_type": "code",
   "execution_count": null,
   "id": "cf58188f-95a1-4604-bf8f-10d5a537f19b",
   "metadata": {},
   "outputs": [],
   "source": [
    "tdists = np.sqrt((catalog['base_SdssCentroid_x'] - 12210)**2 + (catalog['base_SdssCentroid_y'] - 8013)**2)\n",
    "e_dists = np.sqrt((drp_x - 12210)**2 + (drp_y - 8013)**2)"
   ]
  },
  {
   "cell_type": "code",
   "execution_count": null,
   "id": "c1b1fb58-aba4-4b12-a73e-6f0a60511f8e",
   "metadata": {},
   "outputs": [],
   "source": [
    "target_ndx = tdists.argmin()\n",
    "ecdfs_ndx = e_dists.argmin()\n",
    "print(target_ndx, tdists[target_ndx])"
   ]
  },
  {
   "cell_type": "code",
   "execution_count": null,
   "id": "5d537a04-7a60-442c-bb24-5f6ca26286db",
   "metadata": {},
   "outputs": [],
   "source": [
    "plt.imshow(subset['i'].image.array[::-1,:], norm='asinh', # Image is just flipped on the vertical axis\n",
    "           extent=(sampleBBox.getMinX(), sampleBBox.getMaxX(), sampleBBox.getMinY(), sampleBBox.getMaxY()), vmin=-.1, vmax=.1) \n",
    "\n",
    "plt.plot(catalog[target_ndx]['base_SdssCentroid_x'], catalog[target_ndx]['base_SdssCentroid_y'], 'rx')\n",
    "plt.plot(drp_x[ecdfs_ndx], drp_y[ecdfs_ndx], marker='x', color='purple')"
   ]
  },
  {
   "cell_type": "code",
   "execution_count": null,
   "id": "c82004c6-359a-47b4-8dbe-74260f610766",
   "metadata": {},
   "outputs": [],
   "source": [
    "catalog[target_ndx]"
   ]
  },
  {
   "cell_type": "code",
   "execution_count": null,
   "id": "06b8e420-db08-4290-8c69-4f9ae8479f9a",
   "metadata": {},
   "outputs": [],
   "source": [
    "print(f\"12pix aperture flux of target from DRP: {ecdfs_maglimited.iloc[ecdfs_ndx]['i_ap12Flux']:0.02f} vs SourceMeasurement: {catalog[target_ndx]['base_CircularApertureFlux_12_0_instFlux']:0.02f}\")"
   ]
  },
  {
   "cell_type": "code",
   "execution_count": null,
   "id": "d566850d-2613-4723-8732-0c1c3664a41d",
   "metadata": {},
   "outputs": [],
   "source": []
  },
  {
   "cell_type": "markdown",
   "id": "92e3ea1f-50a2-4812-861e-8d0e498fbc14",
   "metadata": {
    "jp-MarkdownHeadingCollapsed": true
   },
   "source": [
    "### Save data for Source Extracting"
   ]
  },
  {
   "cell_type": "code",
   "execution_count": null,
   "id": "ffc3f50e-6645-4eb3-a51b-be5d8144c654",
   "metadata": {},
   "outputs": [],
   "source": [
    "plt.imshow(img.image.array[::-1,:], norm='asinh', vmin=-1, vmax=1)"
   ]
  },
  {
   "cell_type": "code",
   "execution_count": null,
   "id": "e0819334-0898-409b-b808-9140d4d701cd",
   "metadata": {},
   "outputs": [],
   "source": [
    "bands = 'gri'\n",
    "big_deep_calexps = []\n",
    "for tract, patch in hst_data_locs:\n",
    "    primary_hdu = fits.PrimaryHDU()\n",
    "    hdu_list = [primary_hdu]\n",
    "    \n",
    "    for band in bands:\n",
    "        img = obs_butler.get('deepCoadd_calexp', skymap='lsst_cells_v1', band=band, patch=patch, tract=tract)#, tract=tract, patch=patch, band=band))\n",
    "        image_hdu = fits.ImageHDU(data=img.image.array[::-1,:], name=band)\n",
    "        hdu_list.append(image_hdu)\n",
    "    hdul = fits.HDUList(hdu_list)\n",
    "    hdul.writeto(f'/home/a/adari/DATA/ECDFS_ComCam_{tract}_{patch}.fits')"
   ]
  },
  {
   "cell_type": "code",
   "execution_count": null,
   "id": "40a6d1bd-b077-4438-bd66-fae3e9bd82d4",
   "metadata": {},
   "outputs": [],
   "source": [
    "ecdfs_cat.to_pickle('/home/a/adari/DATA/ecdfs_catalog.pkl')"
   ]
  },
  {
   "cell_type": "code",
   "execution_count": null,
   "id": "e64b3d7e-facb-460f-8e33-a435f3053958",
   "metadata": {},
   "outputs": [],
   "source": [
    "ccdvisit = obs_butler.get('ccdVisitTable', instrument='LSSTComCam')"
   ]
  },
  {
   "cell_type": "code",
   "execution_count": null,
   "id": "ca9374b2-0df0-41f4-b59b-d36dee233b64",
   "metadata": {},
   "outputs": [],
   "source": [
    "kale = img.getInfo()"
   ]
  },
  {
   "cell_type": "code",
   "execution_count": null,
   "id": "b769eb1a-f8f9-4658-b3a7-1d938b1f8a44",
   "metadata": {},
   "outputs": [],
   "source": [
    "snake = kale.getPhotoCalib()"
   ]
  },
  {
   "cell_type": "code",
   "execution_count": null,
   "id": "ace79527-df14-4e15-aa58-6709882249d7",
   "metadata": {},
   "outputs": [],
   "source": [
    "-2.5*np.log10(snake.getInstFluxAtZeroMagnitude())"
   ]
  },
  {
   "cell_type": "code",
   "execution_count": null,
   "id": "9eea70c0-0709-47c2-99f1-04d2e38919ea",
   "metadata": {},
   "outputs": [],
   "source": [
    "g_img = obs_butler.get('deepCoadd_calexp', skymap='lsst_cells_v1', band='i', patch=34, tract=5063)#, tract=tract, patch=patch, band=band))"
   ]
  },
  {
   "cell_type": "code",
   "execution_count": null,
   "id": "b76f6e4d-2e49-4764-b921-bff424f18358",
   "metadata": {},
   "outputs": [],
   "source": [
    "-2.5*np.log10(g_img.getInfo().getPhotoCalib().getInstFluxAtZeroMagnitude())"
   ]
  },
  {
   "cell_type": "code",
   "execution_count": null,
   "id": "70bdcd69-2d24-47d3-b2c5-78e3eae98ac3",
   "metadata": {},
   "outputs": [],
   "source": [
    "hst_data_locs[-1]"
   ]
  },
  {
   "cell_type": "code",
   "execution_count": null,
   "id": "e3ebb349-6b41-409a-b479-2fcacafd2213",
   "metadata": {},
   "outputs": [],
   "source": [
    "i_begins = {}\n",
    "\n",
    "for tract, patch in hst_data_locs:\n",
    "    i_img = obs_butler.get('deepCoadd_calexp', skymap='lsst_cells_v1', band='i', patch=patch, tract=tract)\n",
    "    "
   ]
  },
  {
   "cell_type": "code",
   "execution_count": null,
   "id": "937a376d-e912-449e-85b0-07c642112434",
   "metadata": {},
   "outputs": [],
   "source": [
    "i_img = obs_butler.get('deepCoadd_calexp', skymap='lsst_cells_v1', band='i', patch=34, tract=5063)#, tract=tract, patch=patch, band=band))"
   ]
  },
  {
   "cell_type": "code",
   "execution_count": null,
   "id": "05234116-6cb2-423b-a7b2-05760584035c",
   "metadata": {},
   "outputs": [],
   "source": [
    "print(i_img.getBBox().beginX, i_img.getBBox().beginY)"
   ]
  },
  {
   "cell_type": "code",
   "execution_count": null,
   "id": "9d17285f-f9bb-4c53-8525-b9d08e72aa18",
   "metadata": {},
   "outputs": [],
   "source": [
    "kale.beginX"
   ]
  },
  {
   "cell_type": "code",
   "execution_count": null,
   "id": "0efc8a90-a37a-46f6-ba0e-35b9cb7e2e24",
   "metadata": {},
   "outputs": [],
   "source": [
    "kale.beginY"
   ]
  },
  {
   "cell_type": "code",
   "execution_count": null,
   "id": "4600b7ec-9108-4462-bf57-e92151ff03e2",
   "metadata": {},
   "outputs": [],
   "source": [
    "ecdfs_cat"
   ]
  },
  {
   "cell_type": "code",
   "execution_count": null,
   "id": "9d641e47-ea8e-4a07-a176-fb0ed17a3203",
   "metadata": {},
   "outputs": [],
   "source": []
  }
 ],
 "metadata": {
  "kernelspec": {
   "display_name": "LSST",
   "language": "python",
   "name": "lsst"
  },
  "language_info": {
   "codemirror_mode": {
    "name": "ipython",
    "version": 3
   },
   "file_extension": ".py",
   "mimetype": "text/x-python",
   "name": "python",
   "nbconvert_exporter": "python",
   "pygments_lexer": "ipython3",
   "version": "3.11.9"
  }
 },
 "nbformat": 4,
 "nbformat_minor": 5
}
